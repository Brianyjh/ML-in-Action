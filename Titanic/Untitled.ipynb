{
 "cells": [
  {
   "cell_type": "code",
   "execution_count": 218,
   "metadata": {
    "collapsed": false
   },
   "outputs": [],
   "source": [
    "from sklearn import *\n",
    "import numpy as np\n"
   ]
  },
  {
   "cell_type": "code",
   "execution_count": 219,
   "metadata": {
    "collapsed": true
   },
   "outputs": [],
   "source": [
    "import pandas as pd"
   ]
  },
  {
   "cell_type": "code",
   "execution_count": 220,
   "metadata": {
    "collapsed": false
   },
   "outputs": [],
   "source": [
    "trainData = pd.read_csv(\"train.csv\")"
   ]
  },
  {
   "cell_type": "code",
   "execution_count": 227,
   "metadata": {
    "collapsed": false
   },
   "outputs": [],
   "source": [
    "trainData = trainData.drop([\"Ticket\",\"Name\",\"Cabin\",\"PassengerId\"],axis=1)"
   ]
  },
  {
   "cell_type": "code",
   "execution_count": 221,
   "metadata": {
    "collapsed": false
   },
   "outputs": [],
   "source": [
    "trainData[\"Sex\"]=trainData[\"Sex\"].map({\"male\":0,\"female\":1})"
   ]
  },
  {
   "cell_type": "code",
   "execution_count": 222,
   "metadata": {
    "collapsed": false
   },
   "outputs": [],
   "source": [
    "#Embarked 转化为哑变量\n",
    "trainData = trainData.join(pd.get_dummies(trainData[\"Embarked\"]).ix[:,1:])\n",
    "trainData = trainData.drop([\"Embarked\"],axis=1)\n"
   ]
  },
  {
   "cell_type": "markdown",
   "metadata": {},
   "source": [
    "# Fill NaN\n"
   ]
  },
  {
   "cell_type": "code",
   "execution_count": 223,
   "metadata": {
    "collapsed": false
   },
   "outputs": [],
   "source": [
    "#计算不同称呼人士的平均年龄\n",
    "countMr = 0;countMiss = 0;countMrs = 0;countMaster = 0;countAll = 0\n",
    "meanOfMr = 0;meanOfMiss = 0;meanOfMrs = 0;meanOfMaster = 0;meanOfAll = 0\n",
    "for index in range(len(trainData)):\n",
    "    if(pd.isnull(trainData[\"Age\"][index])):\n",
    "        continue\n",
    "    if \"Mr.\" in trainData[\"Name\"][index]:\n",
    "        countMr += 1\n",
    "        meanOfMr += trainData[\"Age\"][index]\n",
    "    elif \"Miss.\" in trainData[\"Name\"][index]:\n",
    "        countMiss += 1\n",
    "        meanOfMiss += trainData[\"Age\"][index]\n",
    "        \n",
    "    elif \"Mrs.\" in trainData[\"Name\"][index]:\n",
    "        countMrs += 1\n",
    "        meanOfMrs += trainData[\"Age\"][index]\n",
    "    elif \"Master.\" in trainData[\"Name\"][index]:\n",
    "        countMaster += 1\n",
    "        meanOfMaster += trainData[\"Age\"][index]\n",
    "    meanOfAll += trainData[\"Age\"][index]\n",
    "    countAll += 1\n",
    "meanOfMr /= float(countMr)\n",
    "meanOfMrs /= float(countMrs)\n",
    "meanOfMaster /= float(countMaster)\n",
    "meanOfMiss /= float(countMiss)\n",
    "meanOfAll /= float(countAll)"
   ]
  },
  {
   "cell_type": "code",
   "execution_count": 224,
   "metadata": {
    "collapsed": false
   },
   "outputs": [
    {
     "data": {
      "text/plain": [
       "meanOfAll       29.699118\n",
       "meanOfMaster     4.574167\n",
       "meanOfMiss      21.773973\n",
       "meanOfMr        32.368090\n",
       "meanOfMrs       35.898148\n",
       "dtype: float64"
      ]
     },
     "execution_count": 224,
     "metadata": {},
     "output_type": "execute_result"
    }
   ],
   "source": [
    "pd.Series({\"meanOfAll\":meanOfAll,\"meanOfMaster\":meanOfMaster,\"meanOfMiss\":meanOfMiss,\"meanOfMrs\":meanOfMrs,\"meanOfMr\":meanOfMr})"
   ]
  },
  {
   "cell_type": "code",
   "execution_count": 225,
   "metadata": {
    "collapsed": false
   },
   "outputs": [
    {
     "name": "stderr",
     "output_type": "stream",
     "text": [
      "H:\\Anaconda3\\lib\\site-packages\\ipykernel\\__main__.py:4: SettingWithCopyWarning: \n",
      "A value is trying to be set on a copy of a slice from a DataFrame\n",
      "\n",
      "See the caveats in the documentation: http://pandas.pydata.org/pandas-docs/stable/indexing.html#indexing-view-versus-copy\n",
      "H:\\Anaconda3\\lib\\site-packages\\ipykernel\\__main__.py:8: SettingWithCopyWarning: \n",
      "A value is trying to be set on a copy of a slice from a DataFrame\n",
      "\n",
      "See the caveats in the documentation: http://pandas.pydata.org/pandas-docs/stable/indexing.html#indexing-view-versus-copy\n",
      "H:\\Anaconda3\\lib\\site-packages\\ipykernel\\__main__.py:6: SettingWithCopyWarning: \n",
      "A value is trying to be set on a copy of a slice from a DataFrame\n",
      "\n",
      "See the caveats in the documentation: http://pandas.pydata.org/pandas-docs/stable/indexing.html#indexing-view-versus-copy\n",
      "H:\\Anaconda3\\lib\\site-packages\\ipykernel\\__main__.py:10: SettingWithCopyWarning: \n",
      "A value is trying to be set on a copy of a slice from a DataFrame\n",
      "\n",
      "See the caveats in the documentation: http://pandas.pydata.org/pandas-docs/stable/indexing.html#indexing-view-versus-copy\n",
      "H:\\Anaconda3\\lib\\site-packages\\ipykernel\\__main__.py:12: SettingWithCopyWarning: \n",
      "A value is trying to be set on a copy of a slice from a DataFrame\n",
      "\n",
      "See the caveats in the documentation: http://pandas.pydata.org/pandas-docs/stable/indexing.html#indexing-view-versus-copy\n"
     ]
    }
   ],
   "source": [
    "for index in range(len(trainData)):\n",
    "    if(pd.isnull(trainData[\"Age\"][index])):\n",
    "        if \"Mr.\" in trainData[\"Name\"][index]:\n",
    "            trainData[\"Age\"][index] = meanOfMr\n",
    "        elif \"Miss.\" in trainData[\"Name\"][index]:\n",
    "            trainData[\"Age\"][index] = meanOfMiss  \n",
    "        elif \"Mrs.\" in trainData[\"Name\"][index]:\n",
    "            trainData[\"Age\"][index] = meanOfMrs\n",
    "        elif \"Master.\" in trainData[\"Name\"][index]:\n",
    "            trainData[\"Age\"][index] = meanOfMaster\n",
    "        else:\n",
    "            trainData[\"Age\"][index] = meanOfAll"
   ]
  },
  {
   "cell_type": "code",
   "execution_count": 226,
   "metadata": {
    "collapsed": false
   },
   "outputs": [
    {
     "data": {
      "text/html": [
       "<div>\n",
       "<table border=\"1\" class=\"dataframe\">\n",
       "  <thead>\n",
       "    <tr style=\"text-align: right;\">\n",
       "      <th></th>\n",
       "      <th>PassengerId</th>\n",
       "      <th>Survived</th>\n",
       "      <th>Pclass</th>\n",
       "      <th>Name</th>\n",
       "      <th>Sex</th>\n",
       "      <th>Age</th>\n",
       "      <th>SibSp</th>\n",
       "      <th>Parch</th>\n",
       "      <th>Ticket</th>\n",
       "      <th>Fare</th>\n",
       "      <th>Cabin</th>\n",
       "      <th>Q</th>\n",
       "      <th>S</th>\n",
       "    </tr>\n",
       "  </thead>\n",
       "  <tbody>\n",
       "    <tr>\n",
       "      <th>0</th>\n",
       "      <td>1</td>\n",
       "      <td>0</td>\n",
       "      <td>3</td>\n",
       "      <td>Braund, Mr. Owen Harris</td>\n",
       "      <td>0</td>\n",
       "      <td>22.0</td>\n",
       "      <td>1</td>\n",
       "      <td>0</td>\n",
       "      <td>A/5 21171</td>\n",
       "      <td>7.2500</td>\n",
       "      <td>NaN</td>\n",
       "      <td>0</td>\n",
       "      <td>1</td>\n",
       "    </tr>\n",
       "    <tr>\n",
       "      <th>1</th>\n",
       "      <td>2</td>\n",
       "      <td>1</td>\n",
       "      <td>1</td>\n",
       "      <td>Cumings, Mrs. John Bradley (Florence Briggs Th...</td>\n",
       "      <td>1</td>\n",
       "      <td>38.0</td>\n",
       "      <td>1</td>\n",
       "      <td>0</td>\n",
       "      <td>PC 17599</td>\n",
       "      <td>71.2833</td>\n",
       "      <td>C85</td>\n",
       "      <td>0</td>\n",
       "      <td>0</td>\n",
       "    </tr>\n",
       "    <tr>\n",
       "      <th>2</th>\n",
       "      <td>3</td>\n",
       "      <td>1</td>\n",
       "      <td>3</td>\n",
       "      <td>Heikkinen, Miss. Laina</td>\n",
       "      <td>1</td>\n",
       "      <td>26.0</td>\n",
       "      <td>0</td>\n",
       "      <td>0</td>\n",
       "      <td>STON/O2. 3101282</td>\n",
       "      <td>7.9250</td>\n",
       "      <td>NaN</td>\n",
       "      <td>0</td>\n",
       "      <td>1</td>\n",
       "    </tr>\n",
       "    <tr>\n",
       "      <th>3</th>\n",
       "      <td>4</td>\n",
       "      <td>1</td>\n",
       "      <td>1</td>\n",
       "      <td>Futrelle, Mrs. Jacques Heath (Lily May Peel)</td>\n",
       "      <td>1</td>\n",
       "      <td>35.0</td>\n",
       "      <td>1</td>\n",
       "      <td>0</td>\n",
       "      <td>113803</td>\n",
       "      <td>53.1000</td>\n",
       "      <td>C123</td>\n",
       "      <td>0</td>\n",
       "      <td>1</td>\n",
       "    </tr>\n",
       "    <tr>\n",
       "      <th>4</th>\n",
       "      <td>5</td>\n",
       "      <td>0</td>\n",
       "      <td>3</td>\n",
       "      <td>Allen, Mr. William Henry</td>\n",
       "      <td>0</td>\n",
       "      <td>35.0</td>\n",
       "      <td>0</td>\n",
       "      <td>0</td>\n",
       "      <td>373450</td>\n",
       "      <td>8.0500</td>\n",
       "      <td>NaN</td>\n",
       "      <td>0</td>\n",
       "      <td>1</td>\n",
       "    </tr>\n",
       "  </tbody>\n",
       "</table>\n",
       "</div>"
      ],
      "text/plain": [
       "   PassengerId  Survived  Pclass  \\\n",
       "0            1         0       3   \n",
       "1            2         1       1   \n",
       "2            3         1       3   \n",
       "3            4         1       1   \n",
       "4            5         0       3   \n",
       "\n",
       "                                                Name  Sex   Age  SibSp  Parch  \\\n",
       "0                            Braund, Mr. Owen Harris    0  22.0      1      0   \n",
       "1  Cumings, Mrs. John Bradley (Florence Briggs Th...    1  38.0      1      0   \n",
       "2                             Heikkinen, Miss. Laina    1  26.0      0      0   \n",
       "3       Futrelle, Mrs. Jacques Heath (Lily May Peel)    1  35.0      1      0   \n",
       "4                           Allen, Mr. William Henry    0  35.0      0      0   \n",
       "\n",
       "             Ticket     Fare Cabin  Q  S  \n",
       "0         A/5 21171   7.2500   NaN  0  1  \n",
       "1          PC 17599  71.2833   C85  0  0  \n",
       "2  STON/O2. 3101282   7.9250   NaN  0  1  \n",
       "3            113803  53.1000  C123  0  1  \n",
       "4            373450   8.0500   NaN  0  1  "
      ]
     },
     "execution_count": 226,
     "metadata": {},
     "output_type": "execute_result"
    }
   ],
   "source": [
    "trainData.head()"
   ]
  },
  {
   "cell_type": "code",
   "execution_count": 229,
   "metadata": {
    "collapsed": false
   },
   "outputs": [],
   "source": [
    "from sklearn import preprocessing as prep"
   ]
  },
  {
   "cell_type": "code",
   "execution_count": 230,
   "metadata": {
    "collapsed": false
   },
   "outputs": [],
   "source": [
    "\n",
    "#scale data with minmax_scale\n",
    "trainData = pd.DataFrame(prep.minmax_scale(trainData),columns=trainData.columns)"
   ]
  },
  {
   "cell_type": "code",
   "execution_count": 231,
   "metadata": {
    "collapsed": false
   },
   "outputs": [
    {
     "data": {
      "text/html": [
       "<div>\n",
       "<table border=\"1\" class=\"dataframe\">\n",
       "  <thead>\n",
       "    <tr style=\"text-align: right;\">\n",
       "      <th></th>\n",
       "      <th>Survived</th>\n",
       "      <th>Pclass</th>\n",
       "      <th>Sex</th>\n",
       "      <th>Age</th>\n",
       "      <th>SibSp</th>\n",
       "      <th>Parch</th>\n",
       "      <th>Fare</th>\n",
       "      <th>Q</th>\n",
       "      <th>S</th>\n",
       "    </tr>\n",
       "  </thead>\n",
       "  <tbody>\n",
       "    <tr>\n",
       "      <th>886</th>\n",
       "      <td>0.0</td>\n",
       "      <td>0.5</td>\n",
       "      <td>0.0</td>\n",
       "      <td>0.334004</td>\n",
       "      <td>0.000</td>\n",
       "      <td>0.000000</td>\n",
       "      <td>0.025374</td>\n",
       "      <td>0.0</td>\n",
       "      <td>1.0</td>\n",
       "    </tr>\n",
       "    <tr>\n",
       "      <th>887</th>\n",
       "      <td>1.0</td>\n",
       "      <td>0.0</td>\n",
       "      <td>1.0</td>\n",
       "      <td>0.233476</td>\n",
       "      <td>0.000</td>\n",
       "      <td>0.000000</td>\n",
       "      <td>0.058556</td>\n",
       "      <td>0.0</td>\n",
       "      <td>1.0</td>\n",
       "    </tr>\n",
       "    <tr>\n",
       "      <th>888</th>\n",
       "      <td>0.0</td>\n",
       "      <td>1.0</td>\n",
       "      <td>1.0</td>\n",
       "      <td>0.268333</td>\n",
       "      <td>0.125</td>\n",
       "      <td>0.333333</td>\n",
       "      <td>0.045771</td>\n",
       "      <td>0.0</td>\n",
       "      <td>1.0</td>\n",
       "    </tr>\n",
       "    <tr>\n",
       "      <th>889</th>\n",
       "      <td>1.0</td>\n",
       "      <td>0.0</td>\n",
       "      <td>0.0</td>\n",
       "      <td>0.321438</td>\n",
       "      <td>0.000</td>\n",
       "      <td>0.000000</td>\n",
       "      <td>0.058556</td>\n",
       "      <td>0.0</td>\n",
       "      <td>0.0</td>\n",
       "    </tr>\n",
       "    <tr>\n",
       "      <th>890</th>\n",
       "      <td>0.0</td>\n",
       "      <td>1.0</td>\n",
       "      <td>0.0</td>\n",
       "      <td>0.396833</td>\n",
       "      <td>0.000</td>\n",
       "      <td>0.000000</td>\n",
       "      <td>0.015127</td>\n",
       "      <td>1.0</td>\n",
       "      <td>0.0</td>\n",
       "    </tr>\n",
       "  </tbody>\n",
       "</table>\n",
       "</div>"
      ],
      "text/plain": [
       "     Survived  Pclass  Sex       Age  SibSp     Parch      Fare    Q    S\n",
       "886       0.0     0.5  0.0  0.334004  0.000  0.000000  0.025374  0.0  1.0\n",
       "887       1.0     0.0  1.0  0.233476  0.000  0.000000  0.058556  0.0  1.0\n",
       "888       0.0     1.0  1.0  0.268333  0.125  0.333333  0.045771  0.0  1.0\n",
       "889       1.0     0.0  0.0  0.321438  0.000  0.000000  0.058556  0.0  0.0\n",
       "890       0.0     1.0  0.0  0.396833  0.000  0.000000  0.015127  1.0  0.0"
      ]
     },
     "execution_count": 231,
     "metadata": {},
     "output_type": "execute_result"
    }
   ],
   "source": [
    "trainData.tail()"
   ]
  },
  {
   "cell_type": "markdown",
   "metadata": {},
   "source": [
    "# selectFeatures\n"
   ]
  },
  {
   "cell_type": "code",
   "execution_count": 235,
   "metadata": {
    "collapsed": false
   },
   "outputs": [],
   "source": [
    "#Relief method \n",
    "#计算相关统计量\n",
    "\n",
    "def getDistance(trainData,i,index):\n",
    "    res = 0.0\n",
    "    for feature in trainData.columns[1:]:\n",
    "        res += (trainData[feature][i] - trainData[feature][index])**2\n",
    "    return res\n",
    "\n",
    "\n",
    "def getNearest(trainData,i,label):\n",
    "    minDis = 99.0\n",
    "    res = 0\n",
    "    for index in range(len(trainData)):\n",
    "        if(index == i):\n",
    "            continue\n",
    "        survived = trainData[\"Survived\"][index]\n",
    "        if survived == label:\n",
    "            distance = getDistance(trainData,i,index)\n",
    "            if distance < minDis:\n",
    "                res = index\n",
    "                minDis = distance\n",
    "    return res\n",
    "def selectFeatures(trainData):\n",
    "    features = trainData.columns[1:]\n",
    "    delta = {}\n",
    "    for feature in features:\n",
    "        print (\"feature : %s\",feature)\n",
    "        delta[feature] = 0.0\n",
    "        for index in range(len(trainData)):\n",
    "            print (\"index:\",index)\n",
    "            survived = trainData[\"Survived\"][index]\n",
    "            nearHitIndex = getNearest(trainData,index,survived if survived else 0.0)\n",
    "            nearMissIndex = getNearest(trainData,index,0.0 if survived else survived)\n",
    "            delta[feature] += -(trainData[feature][nearHitIndex] - trainData[feature][index]) **2 + \\\n",
    "                                (trainData[feature][nearMissIndex] - trainData[feature][index]) **2\n",
    "    return delta"
   ]
  },
  {
   "cell_type": "code",
   "execution_count": 198,
   "metadata": {
    "collapsed": false
   },
   "outputs": [
    {
     "data": {
      "text/plain": [
       "Index(['Pclass', 'Sex', 'Age', 'SibSp', 'Parch', 'Fare', 'Q', 'S'], dtype='object')"
      ]
     },
     "execution_count": 198,
     "metadata": {},
     "output_type": "execute_result"
    }
   ],
   "source": [
    "trainData.columns[1:]"
   ]
  },
  {
   "cell_type": "code",
   "execution_count": null,
   "metadata": {
    "collapsed": false
   },
   "outputs": [
    {
     "name": "stdout",
     "output_type": "stream",
     "text": [
      "feature : %s Pclass\n",
      "index: 0\n",
      "index: 1\n",
      "index: 2\n",
      "index: 3\n",
      "index: 4\n",
      "index: 5\n",
      "index: 6\n",
      "index: 7\n",
      "index: 8\n",
      "index: 9\n",
      "index: 10\n",
      "index: 11\n",
      "index: 12\n",
      "index: 13\n",
      "index: 14\n",
      "index: 15\n",
      "index: 16\n",
      "index: 17\n",
      "index: 18\n",
      "index: 19\n",
      "index: 20\n",
      "index: 21\n",
      "index: 22\n",
      "index: 23\n",
      "index: 24\n",
      "index: 25\n",
      "index: 26\n",
      "index: 27\n",
      "index: 28\n",
      "index: 29\n",
      "index: 30\n",
      "index: 31\n",
      "index: 32\n",
      "index: 33\n",
      "index: 34\n",
      "index: 35\n",
      "index: 36\n",
      "index: 37\n",
      "index: 38\n",
      "index: 39\n",
      "index: 40\n",
      "index: 41\n",
      "index: 42\n",
      "index: 43\n",
      "index: 44\n",
      "index: 45\n",
      "index: 46\n",
      "index: 47\n",
      "index: 48\n",
      "index: 49\n",
      "index: 50\n",
      "index: 51\n",
      "index: 52\n",
      "index: 53\n",
      "index: 54\n",
      "index: 55\n",
      "index: 56\n",
      "index: 57\n",
      "index: 58\n",
      "index: 59\n",
      "index: 60\n",
      "index: 61\n",
      "index: 62\n",
      "index: 63\n",
      "index: 64\n",
      "index: 65\n",
      "index: 66\n",
      "index: 67\n",
      "index: 68\n",
      "index: 69\n",
      "index: 70\n",
      "index: 71\n",
      "index: 72\n",
      "index: 73\n",
      "index: 74\n",
      "index: 75\n",
      "index: 76\n",
      "index: 77\n",
      "index: 78\n",
      "index: 79\n",
      "index: 80\n",
      "index: 81\n",
      "index: 82\n",
      "index: 83\n",
      "index: 84\n",
      "index: 85\n",
      "index: 86\n",
      "index: 87\n",
      "index: 88\n",
      "index: 89\n"
     ]
    }
   ],
   "source": [
    "selectFeatures(trainData)"
   ]
  },
  {
   "cell_type": "code",
   "execution_count": 212,
   "metadata": {
    "collapsed": false
   },
   "outputs": [
    {
     "data": {
      "text/plain": [
       "<function numpy.core.fromnumeric.amax>"
      ]
     },
     "execution_count": 212,
     "metadata": {},
     "output_type": "execute_result"
    }
   ],
   "source": []
  },
  {
   "cell_type": "code",
   "execution_count": null,
   "metadata": {
    "collapsed": true
   },
   "outputs": [],
   "source": []
  }
 ],
 "metadata": {
  "kernelspec": {
   "display_name": "Python 3",
   "language": "python",
   "name": "python3"
  },
  "language_info": {
   "codemirror_mode": {
    "name": "ipython",
    "version": 3
   },
   "file_extension": ".py",
   "mimetype": "text/x-python",
   "name": "python",
   "nbconvert_exporter": "python",
   "pygments_lexer": "ipython3",
   "version": "3.6.0"
  }
 },
 "nbformat": 4,
 "nbformat_minor": 2
}
