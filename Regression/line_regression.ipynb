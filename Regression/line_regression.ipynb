{
 "cells": [
  {
   "cell_type": "code",
   "execution_count": 16,
   "metadata": {
    "collapsed": true
   },
   "outputs": [],
   "source": [
    "import numpy as np\n",
    "import pandas as pd\n",
    "import numpy.linalg as linalg"
   ]
  },
  {
   "cell_type": "code",
   "execution_count": 42,
   "metadata": {
    "collapsed": true
   },
   "outputs": [],
   "source": [
    "import matplotlib.pyplot as plt\n",
    "%matplotlib inline"
   ]
  },
  {
   "cell_type": "code",
   "execution_count": 60,
   "metadata": {
    "collapsed": true
   },
   "outputs": [],
   "source": [
    "def loadDataSet(filename):\n",
    "    dataMat = np.mat(pd.read_csv(filename,delimiter='\\t'))\n",
    "    \n",
    "    return dataMat[:,0:2],dataMat[:,2]\n",
    "\n",
    "def standRegres(xArr,yArr):\n",
    "    xMat = np.mat(xArr);yMat = np.mat(yArr)\n",
    "    xTx = xMat.T * xMat\n",
    "    if linalg.det(xTx) == 0:\n",
    "        print (\"This matrix is singular,cannot do inverse\")\n",
    "        return\n",
    "    #print (\"xTx\",xTx)\n",
    "    \n",
    "    #print (\"xTx.I\",xTx.I)\n",
    "    #print (\"xMat.T\",xMat.T)\n",
    "        \n",
    "    #print (\"yMat\",yMat)\n",
    "    #print (\"(xMat.T * yMat)\",(xMat.T * yMat))\n",
    "    ws = (xTx.I * xMat.T) * yMat\n",
    "\n",
    "    return ws"
   ]
  },
  {
   "cell_type": "code",
   "execution_count": 19,
   "metadata": {
    "collapsed": true
   },
   "outputs": [],
   "source": [
    "xArr,yArr = loadDataSet(\"ex0.txt\")"
   ]
  },
  {
   "cell_type": "code",
   "execution_count": 40,
   "metadata": {
    "collapsed": false
   },
   "outputs": [
    {
     "name": "stdout",
     "output_type": "stream",
     "text": [
      "xTx [[ 199.          97.596068 ]\n",
      " [  97.596068    64.7637961]]\n",
      "xTx.I [[ 0.01925773 -0.02902051]\n",
      " [-0.02902051  0.05917331]]\n",
      "(xMat.T * yMat) [[ 763.943787  ]\n",
      " [ 403.33579036]]\n"
     ]
    }
   ],
   "source": [
    "ws = standRegres(xArr,yArr)"
   ]
  },
  {
   "cell_type": "code",
   "execution_count": 41,
   "metadata": {
    "collapsed": false
   },
   "outputs": [
    {
     "name": "stdout",
     "output_type": "stream",
     "text": [
      "[[ 3.00681047]\n",
      " [ 1.69667188]]\n"
     ]
    }
   ],
   "source": [
    "print (ws)"
   ]
  },
  {
   "cell_type": "code",
   "execution_count": 76,
   "metadata": {
    "collapsed": false
   },
   "outputs": [],
   "source": [
    "def plotRegrs(xMat,yMat):\n",
    "    ws = standRegres(xMat,yMat)\n",
    "    fig = plt.figure()\n",
    "    ax = fig.add_subplot(111)\n",
    "    ax.scatter(xMat[:,1],yMat[:,0])\n",
    "    yPredict = ws.T * xMat.T\n",
    "    #print(\"y\",yPredict)\n",
    "    ax.plot(xMat[:,1],yPredict.T,'red')\n",
    "    print(\"相关系数为:\",np.corrcoef(yPredict,yMat.T))\n",
    "    "
   ]
  },
  {
   "cell_type": "code",
   "execution_count": 77,
   "metadata": {
    "collapsed": false
   },
   "outputs": [
    {
     "name": "stdout",
     "output_type": "stream",
     "text": [
      "相关系数为: [[ 1.         0.9863846]\n",
      " [ 0.9863846  1.       ]]\n"
     ]
    },
    {
     "data": {
      "image/png": "[encoded data removed]",
      "text/plain": [
       "<matplotlib.figure.Figure at 0x20806103cf8>"
      ]
     },
     "metadata": {},
     "output_type": "display_data"
    }
   ],
   "source": [
    "plotRegrs(xArr,yArr)"
   ]
  },
  {
   "cell_type": "code",
   "execution_count": null,
   "metadata": {
    "collapsed": true
   },
   "outputs": [],
   "source": []
  }
 ],
 "metadata": {
  "kernelspec": {
   "display_name": "Python 3",
   "language": "python",
   "name": "python3"
  },
  "language_info": {
   "codemirror_mode": {
    "name": "ipython",
    "version": 3
   },
   "file_extension": ".py",
   "mimetype": "text/x-python",
   "name": "python",
   "nbconvert_exporter": "python",
   "pygments_lexer": "ipython3",
   "version": "3.6.0"
  }
 },
 "nbformat": 4,
 "nbformat_minor": 2
}
