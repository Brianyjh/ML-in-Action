{
 "cells": [
  {
   "cell_type": "code",
   "execution_count": 6,
   "metadata": {
    "collapsed": false
   },
   "outputs": [],
   "source": [
    "from numpy import *\n",
    "from time import sleep\n",
    "\n",
    "def loadDataSet(fileName):\n",
    "    dataMat = []; labelMat = []\n",
    "    fr = open(fileName)\n",
    "    for line in fr.readlines():\n",
    "        lineArr = line.strip().split('\\t')\n",
    "        dataMat.append([float(lineArr[0]), float(lineArr[1])])\n",
    "        labelMat.append(float(lineArr[2]))\n",
    "    return dataMat,labelMat\n",
    "\n",
    "def selectJrand(i,m):\n",
    "    j=i #we want to select any J not equal to i\n",
    "    while (j==i):\n",
    "        j = int(random.uniform(0,m))\n",
    "    return j\n",
    "\n",
    "def clipAlpha(aj,H,L):\n",
    "    if aj > H: \n",
    "        aj = H\n",
    "    if L > aj:\n",
    "        aj = L\n",
    "    return aj\n",
    "\n",
    "def smoSimple(dataMatIn, classLabels, C, toler, maxIter):\n",
    "    dataMatrix = mat(dataMatIn); labelMat = mat(classLabels).transpose()\n",
    "    b = 0; m,n = shape(dataMatrix)\n",
    "    alphas = mat(zeros((m,1)))\n",
    "    iter = 0\n",
    "    while (iter < maxIter):\n",
    "        alphaPairsChanged = 0\n",
    "        for i in range(m):\n",
    "            fXi = float(multiply(alphas,labelMat).T*(dataMatrix*dataMatrix[i,:].T)) + b\n",
    "            Ei = fXi - float(labelMat[i])#if checks if an example violates KKT conditions\n",
    "            if ((labelMat[i]*Ei < -toler) and (alphas[i] < C)) or ((labelMat[i]*Ei > toler) and (alphas[i] > 0)):\n",
    "                j = selectJrand(i,m)\n",
    "                fXj = float(multiply(alphas,labelMat).T*(dataMatrix*dataMatrix[j,:].T)) + b\n",
    "                Ej = fXj - float(labelMat[j])\n",
    "                alphaIold = alphas[i].copy(); alphaJold = alphas[j].copy();\n",
    "                if (labelMat[i] != labelMat[j]):\n",
    "                    L = max(0, alphas[j] - alphas[i])\n",
    "                    H = min(C, C + alphas[j] - alphas[i])\n",
    "                else:\n",
    "                    L = max(0, alphas[j] + alphas[i] - C)\n",
    "                    H = min(C, alphas[j] + alphas[i])\n",
    "                if L==H: print (\"L==H\"); continue\n",
    "                eta = 2.0 * dataMatrix[i,:]*dataMatrix[j,:].T - dataMatrix[i,:]*dataMatrix[i,:].T - dataMatrix[j,:]*dataMatrix[j,:].T\n",
    "                if eta >= 0: print (\"eta>=0\"); continue\n",
    "                alphas[j] -= labelMat[j]*(Ei - Ej)/eta\n",
    "                alphas[j] = clipAlpha(alphas[j],H,L)\n",
    "                if (abs(alphas[j] - alphaJold) < 0.00001): print (\"j not moving enough\"); continue\n",
    "                alphas[i] += labelMat[j]*labelMat[i]*(alphaJold - alphas[j])#update i by the same amount as j\n",
    "                                                                        #the update is in the oppostie direction\n",
    "                b1 = b - Ei- labelMat[i]*(alphas[i]-alphaIold)*dataMatrix[i,:]*dataMatrix[i,:].T - labelMat[j]*(alphas[j]-alphaJold)*dataMatrix[i,:]*dataMatrix[j,:].T\n",
    "                b2 = b - Ej- labelMat[i]*(alphas[i]-alphaIold)*dataMatrix[i,:]*dataMatrix[j,:].T - labelMat[j]*(alphas[j]-alphaJold)*dataMatrix[j,:]*dataMatrix[j,:].T\n",
    "                if (0 < alphas[i]) and (C > alphas[i]): b = b1\n",
    "                elif (0 < alphas[j]) and (C > alphas[j]): b = b2\n",
    "                else: b = (b1 + b2)/2.0\n",
    "                alphaPairsChanged += 1\n",
    "                print (\"iter: %d i:%d, pairs changed %d\",iter,i,alphaPairsChanged)\n",
    "        if (alphaPairsChanged == 0): iter += 1\n",
    "        else: iter = 0\n",
    "        print (\"iteration number: %d\" , iter)\n",
    "    return b,alphas\n"
   ]
  },
  {
   "cell_type": "code",
   "execution_count": 8,
   "metadata": {
    "collapsed": false
   },
   "outputs": [],
   "source": [
    "dataMat,labelMat = loadDataSet(\"testSet.txt\")"
   ]
  },
  {
   "cell_type": "code",
   "execution_count": 89,
   "metadata": {
    "collapsed": false
   },
   "outputs": [],
   "source": []
  },
  {
   "cell_type": "code",
   "execution_count": 85,
   "metadata": {
    "collapsed": false
   },
   "outputs": [
    {
     "name": "stdout",
     "output_type": "stream",
     "text": [
      "b : %d [[-2.94503592]]\n",
      "b : %d [[-2.53794671]]\n",
      "b : %d [[-3.58334916]]\n",
      "b : %d [[-3.03618981]]\n",
      "b : %d [[-3.65174723]]\n",
      "b : %d [[-3.52451459]]\n",
      "b : %d [[-3.17434785]]\n",
      "b : %d [[-2.89991856]]\n",
      "b : %d [[-3.3888794]]\n",
      "b : %d [[-3.03618981]]\n",
      "b : %d [[-2.63166269]]\n",
      "b : %d [[-2.74703432]]\n",
      "b : %d [[-3.27943831]]\n",
      "b : %d [[-3.58069044]]\n",
      "b : %d [[-3.03496463]]\n",
      "b : %d [[-2.85420236]]\n"
     ]
    }
   ],
   "source": [
    "dataMatrix = mat(dataMat)\n",
    "\n",
    "labelMatrix = mat(labelMat)\n",
    "alphaY = multiply(labelMatrix.T,alphas)\n",
    "w = (alphaY.T * dataMatrix)\n",
    "\n",
    "for j in range(100):\n",
    "    if alphas[j] > 0:\n",
    "        b = labelMat[j] - w * dataMatrix[j].T\n",
    "        print (\"b : %d\",b)"
   ]
  },
  {
   "cell_type": "code",
   "execution_count": 71,
   "metadata": {
    "collapsed": false
   },
   "outputs": [],
   "source": [
    "import matplotlib.pyplot as plt\n",
    "%matplotlib inline"
   ]
  },
  {
   "cell_type": "code",
   "execution_count": 88,
   "metadata": {
    "collapsed": false
   },
   "outputs": [
    {
     "data": {
      "image/png": "[encoded data removed]",
      "text/plain": [
       "<matplotlib.figure.Figure at 0x1581165c198>"
      ]
     },
     "metadata": {},
     "output_type": "display_data"
    }
   ],
   "source": [
    "fig = plt.figure()\n",
    "ax = plt.subplot(111)\n",
    "xData = [example[0] for example in dataMat]\n",
    "yData = [example[1] for example in dataMat]\n",
    "plt.scatter(xData,yData,s=30)\n",
    "plt.plot([0,-b / array(w)[0][0]],[-b / array(w)[0][1],0])\n",
    "plt.show()"
   ]
  },
  {
   "cell_type": "code",
   "execution_count": 82,
   "metadata": {
    "collapsed": false
   },
   "outputs": [
    {
     "data": {
      "text/plain": [
       "matrix([[ 0.62568741, -0.13727754]])"
      ]
     },
     "execution_count": 82,
     "metadata": {},
     "output_type": "execute_result"
    }
   ],
   "source": [
    "alphaY.T * dataMatrix"
   ]
  },
  {
   "cell_type": "code",
   "execution_count": 73,
   "metadata": {
    "collapsed": false
   },
   "outputs": [
    {
     "data": {
      "text/plain": [
       "matrix([[ 0.67301886, -0.29561378]])"
      ]
     },
     "execution_count": 73,
     "metadata": {},
     "output_type": "execute_result"
    }
   ],
   "source": [
    "w"
   ]
  },
  {
   "cell_type": "code",
   "execution_count": 74,
   "metadata": {
    "collapsed": false
   },
   "outputs": [
    {
     "data": {
      "text/plain": [
       "matrix([[-3.01973313]])"
      ]
     },
     "execution_count": 74,
     "metadata": {},
     "output_type": "execute_result"
    }
   ],
   "source": [
    "b"
   ]
  },
  {
   "cell_type": "code",
   "execution_count": 81,
   "metadata": {
    "collapsed": false
   },
   "outputs": [
    {
     "data": {
      "text/plain": [
       "matrix([[ -4.88362305e-02],\n",
       "        [ -2.19075198e-02],\n",
       "        [  0.00000000e+00],\n",
       "        [ -0.00000000e+00],\n",
       "        [  0.00000000e+00],\n",
       "        [  6.11490025e-17],\n",
       "        [  0.00000000e+00],\n",
       "        [ -0.00000000e+00],\n",
       "        [ -9.02191922e-03],\n",
       "        [ -0.00000000e+00],\n",
       "        [ -0.00000000e+00],\n",
       "        [ -0.00000000e+00],\n",
       "        [ -0.00000000e+00],\n",
       "        [  0.00000000e+00],\n",
       "        [ -0.00000000e+00],\n",
       "        [  0.00000000e+00],\n",
       "        [  0.00000000e+00],\n",
       "        [ -0.00000000e+00],\n",
       "        [  0.00000000e+00],\n",
       "        [ -0.00000000e+00],\n",
       "        [ -0.00000000e+00],\n",
       "        [ -0.00000000e+00],\n",
       "        [  0.00000000e+00],\n",
       "        [ -0.00000000e+00],\n",
       "        [ -0.00000000e+00],\n",
       "        [  7.37257477e-18],\n",
       "        [  2.47198095e-17],\n",
       "        [ -0.00000000e+00],\n",
       "        [ -0.00000000e+00],\n",
       "        [ -3.02533045e-02],\n",
       "        [ -6.46455463e-02],\n",
       "        [  0.00000000e+00],\n",
       "        [  0.00000000e+00],\n",
       "        [  0.00000000e+00],\n",
       "        [  0.00000000e+00],\n",
       "        [ -0.00000000e+00],\n",
       "        [  0.00000000e+00],\n",
       "        [ -0.00000000e+00],\n",
       "        [ -0.00000000e+00],\n",
       "        [  0.00000000e+00],\n",
       "        [ -0.00000000e+00],\n",
       "        [ -0.00000000e+00],\n",
       "        [ -0.00000000e+00],\n",
       "        [ -0.00000000e+00],\n",
       "        [  0.00000000e+00],\n",
       "        [  0.00000000e+00],\n",
       "        [  2.12503626e-17],\n",
       "        [  0.00000000e+00],\n",
       "        [  0.00000000e+00],\n",
       "        [ -0.00000000e+00],\n",
       "        [  0.00000000e+00],\n",
       "        [  0.00000000e+00],\n",
       "        [ -3.66702993e-02],\n",
       "        [ -0.00000000e+00],\n",
       "        [  4.46239962e-02],\n",
       "        [  6.22219009e-02],\n",
       "        [ -0.00000000e+00],\n",
       "        [  4.07660017e-17],\n",
       "        [ -0.00000000e+00],\n",
       "        [ -0.00000000e+00],\n",
       "        [ -0.00000000e+00],\n",
       "        [ -0.00000000e+00],\n",
       "        [  3.46944695e-17],\n",
       "        [ -0.00000000e+00],\n",
       "        [  0.00000000e+00],\n",
       "        [ -0.00000000e+00],\n",
       "        [ -0.00000000e+00],\n",
       "        [  0.00000000e+00],\n",
       "        [  0.00000000e+00],\n",
       "        [  1.06247565e-01],\n",
       "        [ -0.00000000e+00],\n",
       "        [  0.00000000e+00],\n",
       "        [  0.00000000e+00],\n",
       "        [ -0.00000000e+00],\n",
       "        [ -0.00000000e+00],\n",
       "        [  0.00000000e+00],\n",
       "        [ -0.00000000e+00],\n",
       "        [  0.00000000e+00],\n",
       "        [  0.00000000e+00],\n",
       "        [  0.00000000e+00],\n",
       "        [  0.00000000e+00],\n",
       "        [  0.00000000e+00],\n",
       "        [  0.00000000e+00],\n",
       "        [  0.00000000e+00],\n",
       "        [ -0.00000000e+00],\n",
       "        [ -0.00000000e+00],\n",
       "        [ -0.00000000e+00],\n",
       "        [ -0.00000000e+00],\n",
       "        [  0.00000000e+00],\n",
       "        [ -0.00000000e+00],\n",
       "        [  0.00000000e+00],\n",
       "        [  0.00000000e+00],\n",
       "        [  0.00000000e+00],\n",
       "        [ -0.00000000e+00],\n",
       "        [ -0.00000000e+00],\n",
       "        [ -0.00000000e+00],\n",
       "        [ -1.75864216e-03],\n",
       "        [ -0.00000000e+00],\n",
       "        [ -0.00000000e+00],\n",
       "        [ -0.00000000e+00]])"
      ]
     },
     "execution_count": 81,
     "metadata": {},
     "output_type": "execute_result"
    }
   ],
   "source": [
    "multiply(labelMatrix.T,alphas)"
   ]
  },
  {
   "cell_type": "code",
   "execution_count": null,
   "metadata": {
    "collapsed": true
   },
   "outputs": [],
   "source": []
  }
 ],
 "metadata": {
  "kernelspec": {
   "display_name": "Python 3",
   "language": "python",
   "name": "python3"
  },
  "language_info": {
   "codemirror_mode": {
    "name": "ipython",
    "version": 3
   },
   "file_extension": ".py",
   "mimetype": "text/x-python",
   "name": "python",
   "nbconvert_exporter": "python",
   "pygments_lexer": "ipython3",
   "version": "3.6.0"
  }
 },
 "nbformat": 4,
 "nbformat_minor": 2
}
