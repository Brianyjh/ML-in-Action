{
 "cells": [
  {
   "cell_type": "code",
   "execution_count": 1,
   "metadata": {
    "collapsed": true
   },
   "outputs": [],
   "source": [
    "import numpy as np\n",
    "import pandas as pd"
   ]
  },
  {
   "cell_type": "code",
   "execution_count": 5,
   "metadata": {
    "collapsed": true
   },
   "outputs": [],
   "source": [
    "import matplotlib.pyplot as plt\n",
    "%matplotlib inline"
   ]
  },
  {
   "cell_type": "code",
   "execution_count": 2,
   "metadata": {
    "collapsed": true
   },
   "outputs": [],
   "source": [
    "def loadSimpleData():\n",
    "    dataMat = np.matrix([[1.,2.1],[2.,1.1],[1.3,1.],[1.,1.],[2.,1.]])\n",
    "    classLabels = [1.,1.,-1.,-1.,1.]\n",
    "    return dataMat,classLabels"
   ]
  },
  {
   "cell_type": "code",
   "execution_count": 3,
   "metadata": {
    "collapsed": true
   },
   "outputs": [],
   "source": [
    "dataMat,classLabels = loadSimpleData()"
   ]
  },
  {
   "cell_type": "code",
   "execution_count": 78,
   "metadata": {
    "collapsed": true
   },
   "outputs": [],
   "source": [
    "# 根据不同特征(dimen)和阈值,以及大于小于(gt,lt)进行分类\n",
    "def stumpClassify(dataMatrix,dimen,threshVal,threshIneq):\n",
    "    retArray = np.ones((np.shape(dataMatrix)[0],1))\n",
    "    if threshIneq == 'lt':\n",
    "        retArray[dataMatrix[:,dimen] <= threshVal] = -1\n",
    "    else:\n",
    "        retArray[dataMatrix[:,dimen] > threshVal] = -1\n",
    "    return retArray\n",
    "\n",
    "def buildStump(dataArr,classLabels,D):\n",
    "    dataMatrix = np.mat(dataArr);labelMat = np.mat(classLabels).T\n",
    "    m,n = dataMatrix.shape\n",
    "    numSteps = 10.0;bestStump={};bestClassEst = np.mat(np.zeros((m,1)))\n",
    "    minError = np.inf\n",
    "    for i in range(n):\n",
    "        rangeMin = dataMatrix[:,i].min();rangeMax = dataMatrix[:,i].max();\n",
    "        stepSize = (rangeMax - rangeMin) / numSteps \n",
    "        for j in range(-1,int(numSteps + 1)):\n",
    "            for inequal in ['gt','lt']:\n",
    "                threshVal = rangeMin + (float(j) * stepSize)\n",
    "                predictionVals = \\\n",
    "                                stumpClassify(dataMatrix,i,threshVal,inequal)\n",
    "                errArr = np.mat(np.ones((m,1)))\n",
    "                errArr[predictionVals == labelMat] = 0\n",
    "                #print(\"D.T:\",D.T,\"errArr:\",errArr)\n",
    "                weightedError = float(D.T * errArr)\n",
    "                #rint(\"split:dim %d, thresh %.2f,thresh ineqal: %s,the weighted error is %.3f\"%(i,threshVal,inequal,weightedError))\n",
    "                if weightedError < minError:\n",
    "                    minError = weightedError\n",
    "                    bestClassEst = predictionVals.copy()\n",
    "                    bestStump['dim'] = i\n",
    "                    bestStump['thresh'] = threshVal\n",
    "                    bestStump['ineq'] = inequal\n",
    "    return bestStump,minError,bestClassEst"
   ]
  },
  {
   "cell_type": "code",
   "execution_count": 19,
   "metadata": {
    "collapsed": false
   },
   "outputs": [
    {
     "name": "stdout",
     "output_type": "stream",
     "text": [
      "split:dim 0, thresh 0.90,thresh ineqal: gt,the weighted error is 0.600\n",
      "split:dim 0, thresh 0.90,thresh ineqal: lt,the weighted error is 0.400\n",
      "split:dim 0, thresh 1.00,thresh ineqal: gt,the weighted error is 0.600\n",
      "split:dim 0, thresh 1.00,thresh ineqal: lt,the weighted error is 0.400\n",
      "split:dim 0, thresh 1.10,thresh ineqal: gt,the weighted error is 0.600\n",
      "split:dim 0, thresh 1.10,thresh ineqal: lt,the weighted error is 0.400\n",
      "split:dim 0, thresh 1.20,thresh ineqal: gt,the weighted error is 0.600\n",
      "split:dim 0, thresh 1.20,thresh ineqal: lt,the weighted error is 0.400\n",
      "split:dim 0, thresh 1.30,thresh ineqal: gt,the weighted error is 0.800\n",
      "split:dim 0, thresh 1.30,thresh ineqal: lt,the weighted error is 0.200\n",
      "split:dim 0, thresh 1.40,thresh ineqal: gt,the weighted error is 0.800\n",
      "split:dim 0, thresh 1.40,thresh ineqal: lt,the weighted error is 0.200\n",
      "split:dim 0, thresh 1.50,thresh ineqal: gt,the weighted error is 0.800\n",
      "split:dim 0, thresh 1.50,thresh ineqal: lt,the weighted error is 0.200\n",
      "split:dim 0, thresh 1.60,thresh ineqal: gt,the weighted error is 0.800\n",
      "split:dim 0, thresh 1.60,thresh ineqal: lt,the weighted error is 0.200\n",
      "split:dim 0, thresh 1.70,thresh ineqal: gt,the weighted error is 0.800\n",
      "split:dim 0, thresh 1.70,thresh ineqal: lt,the weighted error is 0.200\n",
      "split:dim 0, thresh 1.80,thresh ineqal: gt,the weighted error is 0.800\n",
      "split:dim 0, thresh 1.80,thresh ineqal: lt,the weighted error is 0.200\n",
      "split:dim 0, thresh 1.90,thresh ineqal: gt,the weighted error is 0.800\n",
      "split:dim 0, thresh 1.90,thresh ineqal: lt,the weighted error is 0.200\n",
      "split:dim 0, thresh 2.00,thresh ineqal: gt,the weighted error is 0.400\n",
      "split:dim 0, thresh 2.00,thresh ineqal: lt,the weighted error is 0.600\n",
      "split:dim 1, thresh 0.89,thresh ineqal: gt,the weighted error is 0.600\n",
      "split:dim 1, thresh 0.89,thresh ineqal: lt,the weighted error is 0.400\n",
      "split:dim 1, thresh 1.00,thresh ineqal: gt,the weighted error is 0.800\n",
      "split:dim 1, thresh 1.00,thresh ineqal: lt,the weighted error is 0.200\n",
      "split:dim 1, thresh 1.11,thresh ineqal: gt,the weighted error is 0.600\n",
      "split:dim 1, thresh 1.11,thresh ineqal: lt,the weighted error is 0.400\n",
      "split:dim 1, thresh 1.22,thresh ineqal: gt,the weighted error is 0.600\n",
      "split:dim 1, thresh 1.22,thresh ineqal: lt,the weighted error is 0.400\n",
      "split:dim 1, thresh 1.33,thresh ineqal: gt,the weighted error is 0.600\n",
      "split:dim 1, thresh 1.33,thresh ineqal: lt,the weighted error is 0.400\n",
      "split:dim 1, thresh 1.44,thresh ineqal: gt,the weighted error is 0.600\n",
      "split:dim 1, thresh 1.44,thresh ineqal: lt,the weighted error is 0.400\n",
      "split:dim 1, thresh 1.55,thresh ineqal: gt,the weighted error is 0.600\n",
      "split:dim 1, thresh 1.55,thresh ineqal: lt,the weighted error is 0.400\n",
      "split:dim 1, thresh 1.66,thresh ineqal: gt,the weighted error is 0.600\n",
      "split:dim 1, thresh 1.66,thresh ineqal: lt,the weighted error is 0.400\n",
      "split:dim 1, thresh 1.77,thresh ineqal: gt,the weighted error is 0.600\n",
      "split:dim 1, thresh 1.77,thresh ineqal: lt,the weighted error is 0.400\n",
      "split:dim 1, thresh 1.88,thresh ineqal: gt,the weighted error is 0.600\n",
      "split:dim 1, thresh 1.88,thresh ineqal: lt,the weighted error is 0.400\n",
      "split:dim 1, thresh 1.99,thresh ineqal: gt,the weighted error is 0.600\n",
      "split:dim 1, thresh 1.99,thresh ineqal: lt,the weighted error is 0.400\n",
      "split:dim 1, thresh 2.10,thresh ineqal: gt,the weighted error is 0.400\n",
      "split:dim 1, thresh 2.10,thresh ineqal: lt,the weighted error is 0.600\n"
     ]
    },
    {
     "data": {
      "text/plain": [
       "({'dim': 0, 'ineq': 'lt', 'thresh': 1.3}, matrix([[ 0.2]]), array([[-1.],\n",
       "        [ 1.],\n",
       "        [-1.],\n",
       "        [-1.],\n",
       "        [ 1.]]))"
      ]
     },
     "execution_count": 19,
     "metadata": {},
     "output_type": "execute_result"
    }
   ],
   "source": [
    "buildStump(dataMat,classLabels,np.ones((len(dataMat),1)) /float(len(dataMat)))"
   ]
  },
  {
   "cell_type": "code",
   "execution_count": 110,
   "metadata": {
    "collapsed": false
   },
   "outputs": [],
   "source": [
    "def adaBoostTrainDS(dataArr,classLabels,numIter=40):\n",
    "    weakClassArr = []\n",
    "    m = np.shape(dataArr)[0]\n",
    "    D = np.mat(np.ones((m,1)) / m)\n",
    "    aggClassEst = np.mat(np.zeros((m,1)))\n",
    "    for i in range(numIter):\n",
    "        bestStump,error,classEst = buildStump(dataArr,classLabels,D)\n",
    "        print(\"D:\",D.T)\n",
    "        weakClassArr.append(bestStump)\n",
    "        alpha = float(0.5 * np.log((1 - error) / max(error,1e-16)))#计算alpha\n",
    "        bestStump['alpha'] = alpha\n",
    "        #print(\"alpha:\",alpha)\n",
    "        print(\"classEst:\",classEst)\n",
    "        #print(\"classLabel:\",classLabels)\n",
    "        #print(\"aggClassEst:\",aggClassEst)\n",
    "        espon = np.exp(np.multiply(-alpha *np.mat(classLabels).T,classEst))\n",
    "        print(\"espon\",espon)\n",
    "        D = np.multiply(D,espon)\n",
    "        D =  D/ D.sum()\n",
    "        #print(\"D:\",D)\n",
    "        #print(\"a * classEst\",alpha * classEst)\n",
    "        aggClassEst += alpha* classEst\n",
    "        print (\"aggClassEst: \",aggClassEst.T)\n",
    "        aggErrors = np.multiply(np.sign(aggClassEst) !=  np.mat(classLabels).T,np.ones((m,1)))\n",
    "        errorRate = aggErrors.sum() / m\n",
    "        print (\"total error:\",errorRate)\n",
    "        if errorRate == 0.0:break\n",
    "    return weakClassArr\n",
    "        "
   ]
  },
  {
   "cell_type": "code",
   "execution_count": 111,
   "metadata": {
    "collapsed": false
   },
   "outputs": [
    {
     "name": "stdout",
     "output_type": "stream",
     "text": [
      "D: [[ 0.2  0.2  0.2  0.2  0.2]]\n",
      "classEst: [[-1.]\n",
      " [ 1.]\n",
      " [-1.]\n",
      " [-1.]\n",
      " [ 1.]]\n",
      "espon [[ 2. ]\n",
      " [ 0.5]\n",
      " [ 0.5]\n",
      " [ 0.5]\n",
      " [ 0.5]]\n",
      "aggClassEst:  [[-0.69314718  0.69314718 -0.69314718 -0.69314718  0.69314718]]\n",
      "total error: 0.2\n",
      "D: [[ 0.5    0.125  0.125  0.125  0.125]]\n",
      "classEst: [[ 1.]\n",
      " [ 1.]\n",
      " [-1.]\n",
      " [-1.]\n",
      " [-1.]]\n",
      "espon [[ 0.37796447]\n",
      " [ 0.37796447]\n",
      " [ 0.37796447]\n",
      " [ 0.37796447]\n",
      " [ 2.64575131]]\n",
      "aggClassEst:  [[ 0.27980789  1.66610226 -1.66610226 -1.66610226 -0.27980789]]\n",
      "total error: 0.2\n",
      "D: [[ 0.28571429  0.07142857  0.07142857  0.07142857  0.5       ]]\n",
      "classEst: [[ 1.]\n",
      " [ 1.]\n",
      " [ 1.]\n",
      " [ 1.]\n",
      " [ 1.]]\n",
      "espon [[ 0.40824829]\n",
      " [ 0.40824829]\n",
      " [ 2.44948974]\n",
      " [ 2.44948974]\n",
      " [ 0.40824829]]\n",
      "aggClassEst:  [[ 1.17568763  2.56198199 -0.77022252 -0.77022252  0.61607184]]\n",
      "total error: 0.0\n"
     ]
    }
   ],
   "source": [
    "classifierArray = adaBoostTrainDS(dataMat,classLabels,9)"
   ]
  },
  {
   "cell_type": "code",
   "execution_count": 112,
   "metadata": {
    "collapsed": false
   },
   "outputs": [
    {
     "name": "stdout",
     "output_type": "stream",
     "text": [
      "[{'dim': 0, 'thresh': 1.3, 'ineq': 'lt', 'alpha': 0.6931471805599453}, {'dim': 1, 'thresh': 1.0, 'ineq': 'lt', 'alpha': 0.9729550745276565}, {'dim': 0, 'thresh': 0.90000000000000002, 'ineq': 'lt', 'alpha': 0.8958797346140273}]\n"
     ]
    }
   ],
   "source": [
    "print (classifierArray)"
   ]
  },
  {
   "cell_type": "code",
   "execution_count": 115,
   "metadata": {
    "collapsed": false
   },
   "outputs": [],
   "source": [
    "def addClassify(dataToClass,classifierArray):\n",
    "    dataMat = np.mat(dataToClass)\n",
    "    m = np.shape(dataMat)[0]\n",
    "    aggClassEst = np.mat(np.zeros((m,1)))\n",
    "    for i in range(len(classifierArray)):\n",
    "        classEst = stumpClassify(dataMat,classifierArray[i]['dim'],classifierArray[i]['thresh'],classifierArray[i]['ineq'])\n",
    "        aggClassEst += classifierArray[i]['alpha'] * classEst\n",
    "        print (aggClassEst)\n",
    "    return np.sign(aggClassEst)\n",
    "        "
   ]
  },
  {
   "cell_type": "code",
   "execution_count": 117,
   "metadata": {
    "collapsed": false
   },
   "outputs": [
    {
     "name": "stdout",
     "output_type": "stream",
     "text": [
      "[[ 0.69314718]]\n",
      "[[ 1.66610226]]\n",
      "[[ 2.56198199]]\n"
     ]
    },
    {
     "data": {
      "text/plain": [
       "matrix([[ 1.]])"
      ]
     },
     "execution_count": 117,
     "metadata": {},
     "output_type": "execute_result"
    }
   ],
   "source": [
    "addClassify([5,5],classifierArray)"
   ]
  },
  {
   "cell_type": "code",
   "execution_count": null,
   "metadata": {
    "collapsed": true
   },
   "outputs": [],
   "source": []
  }
 ],
 "metadata": {
  "kernelspec": {
   "display_name": "Python 3",
   "language": "python",
   "name": "python3"
  },
  "language_info": {
   "codemirror_mode": {
    "name": "ipython",
    "version": 3
   },
   "file_extension": ".py",
   "mimetype": "text/x-python",
   "name": "python",
   "nbconvert_exporter": "python",
   "pygments_lexer": "ipython3",
   "version": "3.6.0"
  }
 },
 "nbformat": 4,
 "nbformat_minor": 2
}
